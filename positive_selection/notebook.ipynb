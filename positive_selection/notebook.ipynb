{
 "cells": [
  {
   "cell_type": "markdown",
   "metadata": {},
   "source": [
    "# Positive selection (dN/dS analyses) in protein-coding genes.\n",
    "This Python Jupyter notebook is for Jesse Bloom's lecture in Genome Sciences 541."
   ]
  },
  {
   "cell_type": "markdown",
   "metadata": {},
   "source": [
    "## Running the notebook\n",
    "You need Python 3.6+ to run this notebook.\n",
    "\n",
    "To get a local instance, do the following:\n",
    "\n",
    "1. Go to the [mybinder](https://mybinder.org/) instance at https://mybinder.org/v2/gh/jbloom/GenomeSciences541/gh-pages?filepath=positive_selection%2Fnotebook.ipynb\n",
    "\n",
    "2. Download the following:\n",
    "  - The notebook (`notebook.ipynb`) itself (you can just save it after opening mybinder instance).\n",
    "  - The input sequences, [HA_alignment.fasta](HA_alignment.fasta).\n",
    "  - The conda environment file, [../binder/environment.yml](../binder/environment.yml).\n",
    "  \n",
    "3. Install the conda environment (this requires you to have installed `conda`) and then activate it using the following commands:\n",
    "   \n",
    "          conda env create -f environment.yml\n",
    "          conda activate GS541\n",
    "\n",
    "4. Run the notebook in the conda environment."
   ]
  },
  {
   "cell_type": "markdown",
   "metadata": {},
   "source": [
    "## Background\n",
    "In class, we went over Goldman-Yang style codon models on the white board.\n",
    "\n",
    "[Yang et al, Genetics, 2000](https://www.genetics.org/content/155/1/431.long) describe the different types of model variants (Table 2 of the paper).\n",
    "You should be familiar with:\n",
    "\n",
    "  - M0\n",
    "  - M1\n",
    "  - M5\n",
    "  - M7\n",
    "  - M8\n",
    "  \n",
    "This models are implemented in the program [paml](http://web.mit.edu/6.891/www/lab/paml.html), which we will use in this notebook.\n",
    "Note that similar (and often better) models are in [HyPhy](https://hyphy.org/), which also has a nice interface at [DataMonkey](https://www.datamonkey.org/). \n",
    "For actual research, you should strongly consider also using HyPhy / DataMonkey; but for this class we are using `paml` as it more simply illustrates the things that we are going to cover."
   ]
  },
  {
   "cell_type": "markdown",
   "metadata": {},
   "source": [
    "## Import Python modules\n",
    "Here we import all the Python modules that we will use:"
   ]
  },
  {
   "cell_type": "code",
   "execution_count": 1,
   "metadata": {},
   "outputs": [],
   "source": [
    "import glob\n",
    "import os\n",
    "\n",
    "import Bio.SeqIO\n",
    "import Bio.Phylo\n",
    "import Bio.Phylo.Applications\n",
    "import Bio.Phylo.PAML.codeml\n",
    "\n",
    "import matplotlib.pyplot as plt\n",
    "plt.ion() # turn on interactive plotting\n",
    "\n",
    "import pandas as pd"
   ]
  },
  {
   "cell_type": "markdown",
   "metadata": {},
   "source": [
    "## Alignment and tree\n",
    "We will analyze an alignment of H3 influenza hemagglutinin sequences.\n",
    "Get some info and make a PHYLIP format version:"
   ]
  },
  {
   "cell_type": "code",
   "execution_count": 2,
   "metadata": {},
   "outputs": [
    {
     "name": "stdout",
     "output_type": "stream",
     "text": [
      "Parsed 25 sequences from HA_alignment.fasta.\n",
      "Sequences are 1698 nucleotides long.\n"
     ]
    },
    {
     "data": {
      "text/plain": [
       "25"
      ]
     },
     "execution_count": 2,
     "metadata": {},
     "output_type": "execute_result"
    }
   ],
   "source": [
    "alignmentfile = 'HA_alignment.fasta'\n",
    "alignment = list(Bio.SeqIO.parse(alignmentfile, 'fasta'))\n",
    "\n",
    "print(f\"Parsed {len(alignment)} sequences from {alignmentfile}.\")\n",
    "\n",
    "seqlen = len(alignment[0])\n",
    "assert all(len(seq) == seqlen for seq in alignment)\n",
    "print(f\"Sequences are {seqlen} nucleotides long.\")\n",
    "\n",
    "alignmentfile_phylip = 'HA_alignment.phylip'\n",
    "Bio.SeqIO.write(alignment, alignmentfile_phylip, 'phylip-sequential')"
   ]
  },
  {
   "cell_type": "markdown",
   "metadata": {},
   "source": [
    "In order to use `paml`, we need to build a tree for these sequences.\n",
    "We will do this using [RAxML](https://cme.h-its.org/exelixis/web/software/raxml/index.html).\n",
    "You can run this program at command line:"
   ]
  },
  {
   "cell_type": "code",
   "execution_count": 3,
   "metadata": {},
   "outputs": [
    {
     "name": "stdout",
     "output_type": "stream",
     "text": [
      "\r\n",
      "\r\n",
      "This is RAxML version 8.2.12 released by Alexandros Stamatakis on May 2018.\r\n",
      "\r\n",
      "With greatly appreciated code contributions by:\r\n",
      "Andre Aberer      (HITS)\r\n",
      "Simon Berger      (HITS)\r\n",
      "Alexey Kozlov     (HITS)\r\n",
      "Kassian Kobert    (HITS)\r\n",
      "David Dao         (KIT and HITS)\r\n",
      "Sarah Lutteropp   (KIT and HITS)\r\n",
      "Nick Pattengale   (Sandia)\r\n",
      "Wayne Pfeiffer    (SDSC)\r\n",
      "Akifumi S. Tanabe (NRIFS)\r\n",
      "Charlie Taylor    (UF)\r\n",
      "\r\n"
     ]
    }
   ],
   "source": [
    "!raxmlHPC -v"
   ]
  },
  {
   "cell_type": "markdown",
   "metadata": {},
   "source": [
    "However, we will do it using the [BioPython wrapper](https://biopython.org/DIST/docs/api/Bio.Phylo.Applications-module.html).\n",
    "Note that we are using a nucleotide model ([GTRCAT](https://cme.h-its.org/exelixis/resource/download/NewManual.pdf)); a common thing in codon model analyses of selection is to build a \"good enough\" tree using a faster nucleotide model and then analyze that tree with the codon model:"
   ]
  },
  {
   "cell_type": "code",
   "execution_count": 4,
   "metadata": {},
   "outputs": [
    {
     "name": "stdout",
     "output_type": "stream",
     "text": [
      "raxmlHPC -m GTRCAT -n HA_tree -p 10000 -s HA_alignment.phylip\n"
     ]
    }
   ],
   "source": [
    "raxml_suffix = 'HA_tree'\n",
    "raxml_cline = Bio.Phylo.Applications.RaxmlCommandline(\n",
    "                sequences=alignmentfile_phylip,\n",
    "                model='GTRCAT',\n",
    "                name=raxml_suffix)\n",
    "print(raxml_cline)"
   ]
  },
  {
   "cell_type": "markdown",
   "metadata": {},
   "source": [
    "RAxML doesn't overwrite existing results, so get rid of any existing output files:"
   ]
  },
  {
   "cell_type": "code",
   "execution_count": 5,
   "metadata": {},
   "outputs": [],
   "source": [
    "for f in glob.glob(f\"*.{raxml_suffix}\"):\n",
    "    os.remove(f)"
   ]
  },
  {
   "cell_type": "markdown",
   "metadata": {},
   "source": [
    "Now run RAxML using the Python wrapper:"
   ]
  },
  {
   "cell_type": "code",
   "execution_count": 6,
   "metadata": {},
   "outputs": [
    {
     "name": "stdout",
     "output_type": "stream",
     "text": [
      "\n",
      "\n",
      "Using BFGS method to optimize GTR rate parameters, to disable this specify \"--no-bfgs\" \n",
      "\n",
      "\n",
      "\n",
      "This is RAxML version 8.2.12 released by Alexandros Stamatakis on May 2018.\n",
      "\n",
      "With greatly appreciated code contributions by:\n",
      "Andre Aberer      (HITS)\n",
      "Simon Berger      (HITS)\n",
      "Alexey Kozlov     (HITS)\n",
      "Kassian Kobert    (HITS)\n",
      "David Dao         (KIT and HITS)\n",
      "Sarah Lutteropp   (KIT and HITS)\n",
      "Nick Pattengale   (Sandia)\n",
      "Wayne Pfeiffer    (SDSC)\n",
      "Akifumi S. Tanabe (NRIFS)\n",
      "Charlie Taylor    (UF)\n",
      "\n",
      "\n",
      "Alignment has 315 distinct alignment patterns\n",
      "\n",
      "Proportion of gaps and completely undetermined characters in this alignment: 0.00%\n",
      "\n",
      "RAxML rapid hill-climbing mode\n",
      "\n",
      "Using 1 distinct models/data partitions with joint branch length optimization\n",
      "\n",
      "\n",
      "Executing 1 inferences on the original alignment using 1 distinct randomized MP trees\n",
      "\n",
      "All free model parameters will be estimated by RAxML\n",
      "ML estimate of 25 per site rate categories\n",
      "\n",
      "Likelihood of final tree will be evaluated and optimized under GAMMA\n",
      "\n",
      "GAMMA Model parameters will be estimated up to an accuracy of 0.1000000000 Log Likelihood units\n",
      "\n",
      "Partition: 0\n",
      "Alignment Patterns: 315\n",
      "Name: No Name Provided\n",
      "DataType: DNA\n",
      "Substitution Matrix: GTR\n",
      "\n",
      "\n",
      "\n",
      "\n",
      "RAxML was called as follows:\n",
      "\n",
      "raxmlHPC -m GTRCAT -n HA_tree -p 10000 -s HA_alignment.phylip \n",
      "\n",
      "\n",
      "Partition: 0 with name: No Name Provided\n",
      "Base frequencies: 0.330 0.201 0.229 0.239 \n",
      "\n",
      "Inference[0]: Time 0.842210 CAT-based likelihood -5133.895208, best rearrangement setting 5\n",
      "\n",
      "\n",
      "Conducting final model optimizations on all 1 trees under GAMMA-based models ....\n",
      "\n",
      "Inference[0] final GAMMA-based Likelihood: -5973.058696 tree written to file /Users/jbloom/OneDrive - Fred Hutchinson Cancer Research Center/courses/GenomeSciences541/positive_selection/RAxML_result.HA_tree\n",
      "\n",
      "\n",
      "Starting final GAMMA-based thorough Optimization on tree 0 likelihood -5973.058696 .... \n",
      "\n",
      "Final GAMMA-based Score of best tree -5973.058696\n",
      "\n",
      "Program execution info written to /Users/jbloom/OneDrive - Fred Hutchinson Cancer Research Center/courses/GenomeSciences541/positive_selection/RAxML_info.HA_tree\n",
      "Best-scoring ML tree written to: /Users/jbloom/OneDrive - Fred Hutchinson Cancer Research Center/courses/GenomeSciences541/positive_selection/RAxML_bestTree.HA_tree\n",
      "\n",
      "Overall execution time: 1.604179 secs or 0.000446 hours or 0.000019 days\n",
      "\n",
      "\n"
     ]
    }
   ],
   "source": [
    "out = raxml_cline()\n",
    "print(out[0])"
   ]
  },
  {
   "cell_type": "markdown",
   "metadata": {},
   "source": [
    "Name of file with created tree; parse it:"
   ]
  },
  {
   "cell_type": "code",
   "execution_count": 7,
   "metadata": {},
   "outputs": [
    {
     "data": {
      "image/png": "[encoded data removed]",
      "text/plain": [
       "<Figure size 1080x720 with 1 Axes>"
      ]
     },
     "metadata": {
      "needs_background": "light"
     },
     "output_type": "display_data"
    }
   ],
   "source": [
    "treefile = f\"RAxML_bestTree.{raxml_suffix}\"\n",
    "\n",
    "tree = Bio.Phylo.read(treefile, 'newick')\n",
    "\n",
    "fig = plt.figure(figsize=(15, 10))\n",
    "axes = fig.add_subplot(1, 1, 1)\n",
    "Bio.Phylo.draw(tree, axes=axes)"
   ]
  },
  {
   "cell_type": "markdown",
   "metadata": {},
   "source": [
    "## Analyze with PAML\n",
    "Now that we have an alignment and tree, we run PAML.\n",
    "Again, we could do this at command line, but instead we will use the [BioPython wrapper](https://biopython.org/wiki/PAML).\n",
    "See the [PAML docs](http://abacus.gene.ucl.ac.uk/software/pamlDOC.pdf) for meanings of the options set below.\n",
    "Note that the `NSsites` variable maps to the codon models in [Yang et al, Genetics, 2000](https://www.genetics.org/content/155/1/431.long):\n",
    "\n",
    " - 0: M0, one $\\omega$\n",
    " - 1: M1, $\\omega < 1$ and $\\omega = 1$\n",
    " - 5: M5, gamma distribution over $\\omega$\n",
    " - 7: M7, beta distribution over $\\omega$ between 0 and 1\n",
    " - 8: M8, like M7 but also one category with $\\omega > 1$."
   ]
  },
  {
   "cell_type": "code",
   "execution_count": 8,
   "metadata": {},
   "outputs": [
    {
     "name": "stdout",
     "output_type": "stream",
     "text": [
      "noisy = 9\n",
      "verbose = 9\n",
      "runmode = 0\n",
      "seqtype = 1\n",
      "CodonFreq = 0\n",
      "ndata = None\n",
      "clock = 0\n",
      "aaDist = 0\n",
      "aaRatefile = None\n",
      "model = 0\n",
      "NSsites = 0 1\n",
      "icode = 0\n",
      "Mgene = 0\n",
      "fix_kappa = 0\n",
      "kappa = 2\n",
      "fix_omega = 0\n",
      "omega = 0.4\n",
      "fix_alpha = 1\n",
      "alpha = 0\n",
      "Malpha = 0\n",
      "ncatG = 4\n",
      "getSE = 0\n",
      "RateAncestor = 0\n",
      "Small_Diff = 5e-07\n",
      "cleandata = None\n",
      "fix_blength = 2\n",
      "method = 0\n",
      "rho = 0\n",
      "fix_rho = 1\n"
     ]
    }
   ],
   "source": [
    "paml_results = 'paml_results.out'\n",
    "\n",
    "cml = Bio.Phylo.PAML.codeml.Codeml(alignment=alignmentfile_phylip,\n",
    "                            tree=treefile,\n",
    "                            out_file=paml_results,\n",
    "                            working_dir='.',\n",
    "                            )\n",
    "\n",
    "NSsites = [0, 1]\n",
    "\n",
    "cml.set_options(verbose=9,\n",
    "                noisy=9,\n",
    "                runmode=0,\n",
    "                seqtype=1,\n",
    "                CodonFreq=0,  # makes it faster, for serious analysis use 2\n",
    "                clock=0,\n",
    "                aaDist=0,\n",
    "                model=0,  # makes it faster, for serious analyses consider 1 or 2\n",
    "                NSsites=NSsites,\n",
    "                icode=0,\n",
    "                Mgene=0,\n",
    "                fix_kappa=0,\n",
    "                kappa=2,\n",
    "                fix_omega=0,\n",
    "                omega=0.4,\n",
    "                fix_alpha=1,\n",
    "                alpha=0,\n",
    "                Malpha=0,\n",
    "                ncatG=4,\n",
    "                fix_rho=1,\n",
    "                rho=0,\n",
    "                getSE=0,\n",
    "                RateAncestor=0,\n",
    "                Small_Diff=0.5e-6,\n",
    "                method=0,\n",
    "                fix_blength=2,  # probably you should use 1 for serious analysis but 2 is faster\n",
    "                )\n",
    "cml.print_options()"
   ]
  },
  {
   "cell_type": "markdown",
   "metadata": {},
   "source": [
    "Run PAML:"
   ]
  },
  {
   "cell_type": "code",
   "execution_count": 9,
   "metadata": {},
   "outputs": [],
   "source": [
    "cml.write_ctl_file()\n",
    "results = cml.run()"
   ]
  },
  {
   "cell_type": "markdown",
   "metadata": {},
   "source": [
    "Look at PAML results:"
   ]
  },
  {
   "cell_type": "code",
   "execution_count": 10,
   "metadata": {},
   "outputs": [
    {
     "name": "stdout",
     "output_type": "stream",
     "text": [
      "\n",
      "Results for model M0 (one-ratio)\n",
      "Log likelihood is -6220.678924\n",
      "kappa: 4.94909\n",
      "omega: 0.32545\n",
      "dN: 0.0726\n",
      "dS: 0.223\n",
      "\n",
      "Results for model M1 (NearlyNeutral (2 categories))\n",
      "Log likelihood is -6090.459401\n",
      "kappa: 4.59785\n",
      "site classes: {0: {'proportion': 0.83181, 'omega': '0.00000'}, 1: {'proportion': 0.16819, 'omega': '1.00000'}}\n"
     ]
    }
   ],
   "source": [
    "for codonmodel in NSsites:\n",
    "    modelresults = results['NSsites'][codonmodel]\n",
    "    print(f\"\\nResults for model M{codonmodel} ({modelresults['description']})\")\n",
    "    print(f\"Log likelihood is {modelresults['lnL']}\")\n",
    "    for key, val in modelresults['parameters'].items():\n",
    "          if key not in {'parameter list', 'branches'}:\n",
    "              print(f\"{key}: {val}\")"
   ]
  },
  {
   "cell_type": "markdown",
   "metadata": {},
   "source": [
    "## Questions for homework\n",
    "\n",
    "1. In the example above, we ran PAML for just the M0 and M1 model (this is set via the `NSsites` variable).\n",
    "   Also run it for the M5, M7, and M8 models.\n",
    "   Compare the log likelihoods for these models and interpret the results.\n",
    "   Compare the omega values for these models and interpret the results.\n",
    "   In particular, what does comparing the M7 and M8 models tell you about whether there are sites under positive selection?\n",
    "   If there are such sites, roughly how many?\n",
    "   \n",
    "2. For the M5 model, use the shape parameters returned to plot the gamma distribution over $\\omega$ (these are the alpha and beta parameters, `a` and `b`).\n",
    "   Give some interpretation to the shape of this distribution.\n",
    "   \n",
    "3. As described in the [PAML docs](http://abacus.gene.ucl.ac.uk/software/pamlDOC.pdf), the `rst` file created by PAML will include information on which sites appear to be positively selected.\n",
    "   What are the positively selected sites under the M5 and M8 models, and how much overlap is there in these sets of sites?\n",
    " \n",
    "4. Repeat the analysis using the larger alignment in [HA_alignment_big.fasta](HA_alignment_big.fasta). \n",
    "   Do any of the results above change in a meaningful way with this bigger alignment?"
   ]
  },
  {
   "cell_type": "code",
   "execution_count": null,
   "metadata": {},
   "outputs": [],
   "source": []
  }
 ],
 "metadata": {
  "kernelspec": {
   "display_name": "Python 3",
   "language": "python",
   "name": "python3"
  },
  "language_info": {
   "codemirror_mode": {
    "name": "ipython",
    "version": 3
   },
   "file_extension": ".py",
   "mimetype": "text/x-python",
   "name": "python",
   "nbconvert_exporter": "python",
   "pygments_lexer": "ipython3",
   "version": "3.6.7"
  },
  "toc": {
   "nav_menu": {},
   "number_sections": false,
   "sideBar": true,
   "skip_h1_title": false,
   "toc_cell": false,
   "toc_position": {},
   "toc_section_display": "block",
   "toc_window_display": true
  }
 },
 "nbformat": 4,
 "nbformat_minor": 2
}
