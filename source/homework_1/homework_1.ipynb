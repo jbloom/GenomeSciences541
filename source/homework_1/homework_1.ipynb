{
 "cells": [
  {
   "cell_type": "markdown",
   "metadata": {},
   "source": [
    "# Homework 1 for Jesse Bloom's lectures in Genome Sciences 541\n",
    "This homework is due on Tuesday, May 17. Please try to finish it before class so that we can go over it in class.\n",
    "\n",
    "Please complete this homework by downloading this iPython notebook and filling in the empty cells that follow each question with code that answers the question and plots showing the answers."
   ]
  },
  {
   "cell_type": "markdown",
   "metadata": {},
   "source": [
    "## Part 1: Simulation of pairs of sequences under two nucleotide models, and estimation of evolutionary distance between them using the Jukes-Cantor model\n",
    "In the [last lecture](jbloom.github.io/GenomeSciences541/lecture_2.html), we discussed two nucleotide model, the simple Jukes-Cantor and the more complex HKY85 model. We are going to simulate sequence divergence under both models, and then estimate the evolutionary distance (branch length) between them using the simpler Jukes-Cantor model.\n",
    "\n",
    "### Jukes Cantor model\n",
    "The first model was the [Jukes-Cantor model](https://en.wikipedia.org/wiki/Models_of_DNA_evolution#JC69_model_.28Jukes_and_Cantor.2C_1969.29.5B1.5D). This is a very simple model that assumes every nucleotide is likely to mutate into every other nucleotide. Recall that the substitution matrix for the Jukes-Cantor model is\n",
    "$$\\mathbf{P} = \\begin{bmatrix} -1 & 1/3 & 1/3 & 1/3 \\\\ 1/3 & -1 & 1/3 & 1/3 \\\\ 1/3 & 1/3 & -1 & 1/3 \\\\ 1/3 & 1/3 & 1/3 & -1 \\end{bmatrix}$$\n",
    "\n",
    "As described in the lecture, it turns out that the elements of $e^{\\mu t \\mathbf{P}}$ are given by\n",
    "$$\\left[e^{\\mu t \\mathbf{P}}\\right]_{ij} = \n",
    "\\begin{cases} \n",
    "\\frac{1}{4} + \\frac{3}{4} e^{-\\mu t} & \\mbox{if } i = j\\\\\n",
    "\\frac{1}{4} - \\frac{1}{4} e^{-\\mu t} &\\mbox{if } i \\ne j\\\\\n",
    "\\end{cases}$$\n",
    "\n",
    "If we start with a given sequence, the expected identity $f$ to that starting sequence after an elapsed time $\\mu t$ is $f = \\frac{1}{4} + \\frac{3}{4} e^{-\\mu t}$. So given the identity $f$ from the starting sequence, you can estimate $\\mu t$ by solving that equation for $\\mu t$.\n",
    "\n",
    "### HKY85 model\n",
    "The second model was the [HKY85 model](https://en.wikipedia.org/wiki/Models_of_DNA_evolution#HKY85_model_.28Hasegawa.2C_Kishino_and_Yano_1985.29.5B4.5D). This model allows the sequences to have unequal nucleotide frequencies, which we will denote $\\phi_A$, $\\phi_C$, $\\phi_G$, and $\\phi_T$ where $1 = \\sum_x \\phi_x$. This model also allows transitions to occur at a different rate than transversions: the elevation of the transition rate over the transversion rate is denoted by $\\kappa$.  \n",
    "\n",
    "So the substitution matrix for the HKY85 model is:\n",
    "$$\n",
    "\\mathbf{P} = \n",
    "\\begin{bmatrix}\n",
    "* & \\phi_C & \\kappa \\phi_G & \\phi_T \\\\\n",
    "\\phi_A & * & \\phi_G & \\kappa \\phi_T \\\\\n",
    "\\kappa \\phi_A & \\phi_C & * & \\phi_T \\\\\n",
    "\\phi_A & \\kappa \\phi_C & \\phi_G & * \\\\\n",
    "\\end{bmatrix}\n",
    "$$\n",
    "where the $*$ indicates that the diagonal elements are chosen such that $0 = \\sum_j P_{ij}$.\n",
    "\n",
    "### Simulations with `pyvolve`\n",
    "We are going to simulate the evolution using the [pyvolve](https://github.com/sjspielman/pyvolve) software package.\n",
    "\n",
    "[pyvolve](https://github.com/sjspielman/pyvolve) is written by [Stephanie Spielman](http://sjspielman.org/) and [Claus Wilke](http://wilkelab.org/) (for anyone interested, they are giving seminars at the Hutch [on Monday](https://www.fredhutch.org/en/labs/phs/projects/herbold-computational-biology-program/seminars-events.html) and [in July](http://www.cidid.org/events/2016/7/21/cidid-seminar-stephanie-spielman), respectively).\n",
    "\n",
    "There is a manual for [pyvolve](https://github.com/sjspielman/pyvolve) that can be [downloaded here](https://github.com/sjspielman/pyvolve/raw/master/user_manual/pyvolve_manual.pdf). \n",
    "\n",
    "The first thing you need to do is install the program. Assuming you have a reasonable implementation of `Python` with `pip` installed, you should be able to do this with `pip install pyvolve`. \n",
    "\n",
    "First you need to set up the nucleotide models. In the example below, I do this for the Jukes-Cantor model:"
   ]
  },
  {
   "cell_type": "code",
   "execution_count": 8,
   "metadata": {
    "collapsed": false
   },
   "outputs": [],
   "source": [
    "import pyvolve\n",
    "\n",
    "# following section 6.1 of pyvolve manual\n",
    "freqs = [0.25, 0.25, 0.25, 0.25] # equilibrium nucleotide frequencies all equal for Jukes Cantor\n",
    "custom_mu = {'AC':1, 'AG':1, 'AT':1, 'CG':1, 'CT':1, 'GT':1} # rates all equal, set to one\n",
    "jukescantor_model = pyvolve.Model(\"nucleotide\", {'mu':custom_mu, 'state_freqs':freqs})"
   ]
  },
  {
   "cell_type": "markdown",
   "metadata": {},
   "source": [
    "Now we use [pyvolve](https://github.com/sjspielman/pyvolve) to simulate the evolution along a simple two-taxon tree. Note that the tree is specified below in [Newick format](https://en.wikipedia.org/wiki/Newick_format). The sequence is of length 1000 nucleotides, and we simulate for a range of times going from 0 to 1.9. After each simulation, we compute the pairwise divergence between the two sequences on the tree."
   ]
  },
  {
   "cell_type": "code",
   "execution_count": 9,
   "metadata": {
    "collapsed": false
   },
   "outputs": [],
   "source": [
    "import numpy\n",
    "import Bio.SeqIO # import Biopython, you may need to install this\n",
    "\n",
    "seqlength = 10000 # sequences of 1000 nucleotides\n",
    "\n",
    "times = numpy.arange(0, 2, 0.1) # divergence times\n",
    "\n",
    "actual_identities = []\n",
    "for t in times: # loop over different branch lengths\n",
    "    tree = pyvolve.read_tree(tree='(s1:{0},s2:{0});'.format(t / 2.0)) # as in section 5 of pyvolve manual\n",
    "    partition = pyvolve.Partition(models=jukescantor_model, size=seqlength) # as in section 7 of pyvolve manual\n",
    "    evolver = pyvolve.Evolver(tree=tree, partitions=partition) # as in section 8 of pyvolve manual\n",
    "    seqfile = 'seqs_{0}.fasta'.format(t)\n",
    "    evolver(seqfile=seqfile) # run evolve specifying output sequence file\n",
    "    seqs = list(Bio.SeqIO.parse(seqfile, 'fasta'))\n",
    "    assert len(seqs) == 2\n",
    "    fracident = len([i for i in range(seqlength) if seqs[0].seq[i] == seqs[1].seq[i]]) / float(seqlength)\n",
    "    actual_identities.append(fracident)  "
   ]
  },
  {
   "cell_type": "markdown",
   "metadata": {},
   "source": [
    "After these simulations, the variable `actual_identities` has a list of the actual identities after the simulation for each divergence time in `times`. \n",
    "\n",
    "**Question 1: Use the equation that relates $\\mu t$ to the expected identity $f$ for the Jukes-Cantor model to estimate $\\mu t$ for each simulated timepoint. The figuire below plots estimated divergence times under the Jukes-Cantor model versus the actual times used in the simulation. What does this relationship look like, and is it what you expect?**"
   ]
  },
  {
   "cell_type": "code",
   "execution_count": 10,
   "metadata": {
    "collapsed": false
   },
   "outputs": [
    {
     "data": {
      "text/plain": [
       "<matplotlib.text.Text at 0x112aa4950>"
      ]
     },
     "execution_count": 10,
     "metadata": {},
     "output_type": "execute_result"
    },
    {
     "data": {
      "image/png": "[encoded data removed]",
      "text/plain": [
       "<matplotlib.figure.Figure at 0x113d87750>"
      ]
     },
     "metadata": {},
     "output_type": "display_data"
    }
   ],
   "source": [
    "# Compute the Jukes-Cantor estimates of mu*t and plot them here\n",
    "%matplotlib inline\n",
    "import matplotlib.pyplot as plt\n",
    "import math\n",
    "\n",
    "def jc_estimate(f):\n",
    "    t = -math.log((4 * f - 1) / 3.)\n",
    "    return t\n",
    "\n",
    "estimates = map(jc_estimate, actual_identities)\n",
    "\n",
    "plt.plot(times, estimates)\n",
    "plt.xlabel('time')\n",
    "plt.ylabel('Jukes Cantor estimates')"
   ]
  },
  {
   "cell_type": "markdown",
   "metadata": {},
   "source": [
    "**Question 2: Now define the HKY85 model for pyvolve simulations similar to how the Jukes-Cantor was defined above. Perform similar simulations under the HKY85 model using $\\kappa = 4$, $\\phi_A = \\phi_T = 0.35$, and $\\phi_C = \\phi_G = 0.15$, and then compute the estimated divergences using the Jukes-Cantor model. Plot the actual versus estimated divergences. How well does the Jukes-Cantor estimate perform when the HKY85 model is the true one?**\n",
    "_Below is code that defines an HKY85 model for a **different** set of parameters than the one in the question. Specifically, the parameters below again define a Jukes-Cantor model. Make this model correct for HKY85 specifications in the question, and then do the simulations and answer the question._"
   ]
  },
  {
   "cell_type": "code",
   "execution_count": 11,
   "metadata": {
    "collapsed": true
   },
   "outputs": [],
   "source": [
    "# Simulations under HKY85 model, and comparison of actual and estimated distances.\n",
    "# following section 6.1 of pyvolve manual\n",
    "freqs = [0.25, 0.25, 0.25, 0.25] # the equilibrium nucleotide frequencies can differ for HKY85\n",
    "custom_mu = {'AC':1, 'AG':1, 'AT':1, 'CG':1, 'CT':1, 'GT':1} # transitions / transversions can have diff rates for HKY85\n",
    "hky85_model = pyvolve.Model(\"nucleotide\", {'mu':custom_mu, 'state_freqs':freqs})"
   ]
  },
  {
   "cell_type": "markdown",
   "metadata": {},
   "source": [
    "## Part 2: Simulating a more complex phylogenetic tree and analysis with `RAxML`"
   ]
  },
  {
   "cell_type": "markdown",
   "metadata": {},
   "source": [
    "Now we are going to simulate a more complex tree phylogeny using `pyvolve`. Everything is exactly as in _Part 1_, except now we read the tree from the file [`NP_tree.newick`, which you can download here](https://github.com/jbloom/GenomeSciences541/blob/gh-pages/source/homework_1/NP_tree.newick). We then simply simulate evolution along this sequence using the branch lengths that it gives you.\n",
    "\n",
    "Although it is not required, you might look at this tree using some viewer you download such as [FigTree](http://tree.bio.ed.ac.uk/software/figtree/).\n",
    "\n",
    "Here is the simulation done for the Jukes-Cantor model to create the file `JukesCantor_simulated_NP_alignment.fasta`:"
   ]
  },
  {
   "cell_type": "code",
   "execution_count": 12,
   "metadata": {
    "collapsed": false
   },
   "outputs": [],
   "source": [
    "treefile = 'NP_tree.newick'\n",
    "\n",
    "# We use the jukescantor_model defined above\n",
    "tree = pyvolve.read_tree(file=treefile) # as in section 5 of pyvolve manual\n",
    "partition = pyvolve.Partition(models=hky85_model, size=seqlength) # as in section 7 of pyvolve manual\n",
    "evolver = pyvolve.Evolver(tree=tree, partitions=partition) # as in section 8 of pyvolve manual\n",
    "jc_simulated_alignment = 'JukesCantor_simulated_NP_alignment.fasta'\n",
    "evolver(seqfile=jc_simulated_alignment)"
   ]
  },
  {
   "cell_type": "markdown",
   "metadata": {},
   "source": [
    "Now we are going to use [RAxML](http://sco.h-its.org/exelixis/web/software/raxml/index.html) to fit a phylogeny to that alignment. There is a decent chance that [RAxML](http://sco.h-its.org/exelixis/web/software/raxml/index.html) is already installed if you are using a scientific computing cluster. If not, install it (for a Mac, it can be installed using `MacPorts`)."
   ]
  },
  {
   "cell_type": "code",
   "execution_count": 13,
   "metadata": {
    "collapsed": false
   },
   "outputs": [
    {
     "name": "stdout",
     "output_type": "stream",
     "text": [
      "\n",
      "RAxML can't, parse the alignment file as phylip file \n",
      "it will now try to parse it as FASTA file\n",
      "\n",
      "\n",
      "This is the RAxML Master Pthread\n",
      "\n",
      "This is RAxML Worker Pthread Number: 1\n",
      "\n",
      "\n",
      "This is RAxML version 7.7.6 released by Alexandros Stamatakis on August 29 2013.\n",
      "\n",
      "With greatly appreciated code contributions by:\n",
      "Andre Aberer (HITS)\n",
      "Simon Berger (HITS)\n",
      "Nick Pattengale (Sandia)\n",
      "Wayne Pfeiffer (SDSC)\n",
      "Akifumi S. Tanabe (NRIFS)\n",
      "\n",
      "\n",
      "Alignment has 1565 distinct alignment patterns\n",
      "\n",
      "Proportion of gaps and completely undetermined characters in this alignment: 0.00%\n",
      "\n",
      "RAxML rapid hill-climbing mode\n",
      "\n",
      "Using 1 distinct models/data partitions with joint branch length optimization\n",
      "\n",
      "\n",
      "Executing 1 inferences on the original alignment using 1 distinct randomized MP trees\n",
      "\n",
      "All free model parameters will be estimated by RAxML\n",
      "ML estimate of 25 per site rate categories\n",
      "\n",
      "Likelihood of final tree will be evaluated and optimized under GAMMA\n",
      "\n",
      "GAMMA Model parameters will be estimated up to an accuracy of 0.1000000000 Log Likelihood units\n",
      "\n",
      "Partition: 0\n",
      "Alignment Patterns: 1565\n",
      "Name: No Name Provided\n",
      "DataType: DNA\n",
      "Substitution Matrix: GTR\n",
      "\n",
      "\n",
      "\n",
      "\n",
      "RAxML was called as follows:\n",
      "\n",
      "raxml -s JukesCantor_simulated_NP_alignment.fasta -n jukescantor -m GTRCAT -p 1 -T 2 \n",
      "\n",
      "\n",
      "Partition: 0 with name: No Name Provided\n",
      "Base frequencies: 0.704 0.098 0.101 0.096 \n",
      "\n",
      "Inference[0]: Time 1.030799 CAT-based likelihood -39135.583195, best rearrangement setting 5\n",
      "\n",
      "\n",
      "Conducting final model optimizations on all 1 trees under GAMMA-based models ....\n",
      "\n",
      "Inference[0] final GAMMA-based Likelihood: -44299.823540 tree written to file /Users/jbloom/Documents/courses/GenomeSciences541/source/homework_1/RAxML_result.jukescantor\n",
      "\n",
      "\n",
      "Starting final GAMMA-based thorough Optimization on tree 0 likelihood -44299.823540 .... \n",
      "\n",
      "Final GAMMA-based Score of best tree -44299.823540\n",
      "\n",
      "Program execution info written to /Users/jbloom/Documents/courses/GenomeSciences541/source/homework_1/RAxML_info.jukescantor\n",
      "Best-scoring ML tree written to: /Users/jbloom/Documents/courses/GenomeSciences541/source/homework_1/RAxML_bestTree.jukescantor\n",
      "\n",
      "Overall execution time: 3.396831 secs or 0.000944 hours or 0.000039 days\n",
      "\n"
     ]
    }
   ],
   "source": [
    "# The -T option may or may not be needed depending on whether you have a multi-threaded version of raxml\n",
    "!raxml -s {jc_simulated_alignment} -n jukescantor -m GTRCAT -p 1 -T 2"
   ]
  },
  {
   "cell_type": "markdown",
   "metadata": {},
   "source": [
    "[RAxML](http://sco.h-its.org/exelixis/web/software/raxml/index.html) is **not** using the Jukes-Cantor model, it is using the more general [GTR model](https://en.wikipedia.org/wiki/Models_of_DNA_evolution#GTR:_Generalised_time-reversible_.28Tavar.C3.A9_1986.29.5B9.5D). So let's look and see if it inferred model parameters close to what we used in our simulations. To do this, we look in `RAxML_info.jukescantor` file:"
   ]
  },
  {
   "cell_type": "code",
   "execution_count": 14,
   "metadata": {
    "collapsed": false
   },
   "outputs": [
    {
     "name": "stdout",
     "output_type": "stream",
     "text": [
      "\r\n",
      "\r\n",
      "This is RAxML version 7.7.6 released by Alexandros Stamatakis on August 29 2013.\r\n",
      "\r\n",
      "With greatly appreciated code contributions by:\r\n",
      "Andre Aberer (HITS)\r\n",
      "Simon Berger (HITS)\r\n",
      "Nick Pattengale (Sandia)\r\n",
      "Wayne Pfeiffer (SDSC)\r\n",
      "Akifumi S. Tanabe (NRIFS)\r\n",
      "\r\n",
      "\r\n",
      "Alignment has 1565 distinct alignment patterns\r\n",
      "\r\n",
      "Proportion of gaps and completely undetermined characters in this alignment: 0.00%\r\n",
      "\r\n",
      "RAxML rapid hill-climbing mode\r\n",
      "\r\n",
      "Using 1 distinct models/data partitions with joint branch length optimization\r\n",
      "\r\n",
      "\r\n",
      "Executing 1 inferences on the original alignment using 1 distinct randomized MP trees\r\n",
      "\r\n",
      "All free model parameters will be estimated by RAxML\r\n",
      "ML estimate of 25 per site rate categories\r\n",
      "\r\n",
      "Likelihood of final tree will be evaluated and optimized under GAMMA\r\n",
      "\r\n",
      "GAMMA Model parameters will be estimated up to an accuracy of 0.1000000000 Log Likelihood units\r\n",
      "\r\n",
      "Partition: 0\r\n",
      "Alignment Patterns: 1565\r\n",
      "Name: No Name Provided\r\n",
      "DataType: DNA\r\n",
      "Substitution Matrix: GTR\r\n",
      "\r\n",
      "\r\n",
      "\r\n",
      "\r\n",
      "RAxML was called as follows:\r\n",
      "\r\n",
      "raxml -s JukesCantor_simulated_NP_alignment.fasta -n jukescantor -m GTRCAT -p 1 -T 2 \r\n",
      "\r\n",
      "\r\n",
      "Partition: 0 with name: No Name Provided\r\n",
      "Base frequencies: 0.704 0.098 0.101 0.096 \r\n",
      "\r\n",
      "Inference[0]: Time 1.030799 CAT-based likelihood -39135.583195, best rearrangement setting 5\r\n",
      "alpha[0]: 1.000000 rates[0] ac ag at cg ct gt: 0.811222 1.585494 0.802307 0.651267 1.417918 1.000000 \r\n",
      "\r\n",
      "\r\n",
      "Conducting final model optimizations on all 1 trees under GAMMA-based models ....\r\n",
      "\r\n",
      "Inference[0] final GAMMA-based Likelihood: -44299.823540 tree written to file /Users/jbloom/Documents/courses/GenomeSciences541/source/homework_1/RAxML_result.jukescantor\r\n",
      "\r\n",
      "\r\n",
      "Starting final GAMMA-based thorough Optimization on tree 0 likelihood -44299.823540 .... \r\n",
      "\r\n",
      "Final GAMMA-based Score of best tree -44299.823540\r\n",
      "\r\n",
      "Program execution info written to /Users/jbloom/Documents/courses/GenomeSciences541/source/homework_1/RAxML_info.jukescantor\r\n",
      "Best-scoring ML tree written to: /Users/jbloom/Documents/courses/GenomeSciences541/source/homework_1/RAxML_bestTree.jukescantor\r\n",
      "\r\n",
      "Overall execution time: 3.396831 secs or 0.000944 hours or 0.000039 days\r\n",
      "\r\n"
     ]
    }
   ],
   "source": [
    "!cat RAxML_info.jukescantor"
   ]
  },
  {
   "cell_type": "markdown",
   "metadata": {},
   "source": [
    "This file gives the base frequencies and rates inferred by [RAxML](http://sco.h-its.org/exelixis/web/software/raxml/index.html). \n",
    "\n",
    "**Question 3: What are the base frequencies and rates inferred by [RAxML](http://sco.h-its.org/exelixis/web/software/raxml/index.html), and how do they compare to what you expect?**"
   ]
  },
  {
   "cell_type": "markdown",
   "metadata": {},
   "source": [
    "_Put your answer to question 3 here_"
   ]
  },
  {
   "cell_type": "markdown",
   "metadata": {},
   "source": [
    "**Question 4: Repeat the simulations and inferences using the HKY85 model that you defined in Part 1. Now what are the base frequencies and rates inferred by [RAxML](http://sco.h-its.org/exelixis/web/software/raxml/index.html), and how do they compare to what you expect and what [RAxML](http://sco.h-its.org/exelixis/web/software/raxml/index.html) inferred when you used the Jukes-Cantor model?**"
   ]
  },
  {
   "cell_type": "markdown",
   "metadata": {},
   "source": [
    "_Put your answer to question 4 here_"
   ]
  }
 ],
 "metadata": {
  "kernelspec": {
   "display_name": "Python 2",
   "language": "python",
   "name": "python2"
  },
  "language_info": {
   "codemirror_mode": {
    "name": "ipython",
    "version": 2
   },
   "file_extension": ".py",
   "mimetype": "text/x-python",
   "name": "python",
   "nbconvert_exporter": "python",
   "pygments_lexer": "ipython2",
   "version": "2.7.10"
  }
 },
 "nbformat": 4,
 "nbformat_minor": 0
}
